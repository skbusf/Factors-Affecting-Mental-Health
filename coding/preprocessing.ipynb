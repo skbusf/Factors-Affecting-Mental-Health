{
 "cells": [
  {
   "cell_type": "code",
   "execution_count": 1,
   "metadata": {},
   "outputs": [],
   "source": [
    "import pandas as pd\n",
    "import numpy as np\n",
    "pd.set_option('display.max_rows', 500)"
   ]
  },
  {
   "cell_type": "code",
   "execution_count": 2,
   "metadata": {},
   "outputs": [
    {
     "data": {
      "text/plain": [
       "(438693, 303)"
      ]
     },
     "execution_count": 2,
     "metadata": {},
     "output_type": "execute_result"
    }
   ],
   "source": [
    "# importing the data\n",
    "df = pd.read_csv(\"brfssdata2021.csv\")\n",
    "df.shape\n"
   ]
  },
  {
   "cell_type": "code",
   "execution_count": 3,
   "metadata": {},
   "outputs": [
    {
     "data": {
      "text/plain": [
       "(125118, 304)"
      ]
     },
     "execution_count": 3,
     "metadata": {},
     "output_type": "execute_result"
    }
   ],
   "source": [
    "# dropping the data with missing dependent variable values and the people who reported mental health as none, refused and dont know\n",
    "df2 = df\n",
    "df2.dropna(subset=['number of days mental health not good'], inplace=True)\n",
    "df2 = df2[(df2[\"number of days mental health not good\"] != 99) & (df2[\"number of days mental health not good\"] != 88) &\n",
    "          (df2[\"number of days mental health not good\"] != 77) & (df2[\"number of days mental health not good\"] != 30) &\n",
    "          (df2[\"binge drinking calculated variable\"] != 9)]\n",
    "\n",
    "\n",
    "df2 = df2[(df2['do you now use e-cigarettes, every day,'] != 7) & (df2['do you now use e-cigarettes, every day,'] != 9) &\n",
    "          (df2['frequency of days now smoking'] != 7) & (\n",
    "              df2['frequency of days now smoking'] != 9) & (df2[\"smoked at least 100 cigarettes\"] != 7)\n",
    "          & (df2[\"smoked at least 100 cigarettes\"] != 9)]\n",
    "df2[\"Smoking\"] = np.where((df2[\"smoked at least 100 cigarettes\"] == 1) | (df2[\"frequency of days now smoking\"] == 1) | (df2[\"frequency of days now smoking\"] == 2), \"cigarettes\", \n",
    "np.where((df2[\"do you now use e-cigarettes, every day,\"] == 1) | (df2[\"do you now use e-cigarettes, every day,\"] == 2), \"e-cigarettes\", \n",
    "np.where((df2[\"smoked at least 100 cigarettes\"] == 2) | (df2[\"frequency of days now smoking\"] == 3) | (df2[\"do you now use e-cigarettes, every day,\"] == 3) | (df2[\"do you now use e-cigarettes, every day,\"] == 4), \"no\", \"none\")))\n",
    "\n",
    "\n",
    "df2.rename({'computed body mass index categories': 'BMI', 'computed height in inches': 'Height_Inch', \n",
    "            \"computed weight in kilograms\": \"Weight_kg\", \"binge drinking calculated variable\": \"binge_drinking\", \n",
    "            \"imputed age in six groups\": \"Age_in_Groups\"}, axis=1, inplace=True)\n",
    "\n",
    "df2.shape\n"
   ]
  },
  {
   "cell_type": "code",
   "execution_count": 4,
   "metadata": {},
   "outputs": [
    {
     "data": {
      "text/plain": [
       "(125118, 150)"
      ]
     },
     "execution_count": 4,
     "metadata": {},
     "output_type": "execute_result"
    }
   ],
   "source": [
    "# dropping columns with more than 70% missing data\n",
    "df3 = df2.dropna(axis='columns', thresh = int(0.70 * len(df2)))\n",
    "df3.shape"
   ]
  },
  {
   "cell_type": "code",
   "execution_count": 5,
   "metadata": {},
   "outputs": [
    {
     "name": "stdout",
     "output_type": "stream",
     "text": [
      "45\n"
     ]
    },
    {
     "data": {
      "text/plain": [
       "['interview date',\n",
       " 'interview month',\n",
       " 'interview day',\n",
       " 'interview year',\n",
       " 'child hispanic, latino/a, or spanish origin calculated variable',\n",
       " 'computed physical health status',\n",
       " 'computed mental health status',\n",
       " 'leisure time physical activity calculated variable',\n",
       " 'high blood pressure calculated variable',\n",
       " 'cholesterol checked calculated variable',\n",
       " 'high cholesterol calculated variable',\n",
       " 'lifetime asthma calculated variable',\n",
       " 'current asthma calculated variable',\n",
       " 'computed asthma status',\n",
       " 'computed preferred race',\n",
       " 'calculated non-hispanic race including multiracial',\n",
       " 'hispanic, latino/a, or spanish origin calculated variable',\n",
       " 'computed race-ethnicity grouping',\n",
       " 'computed non-hispanic whites/all others',\n",
       " 'computed five level race/ethnicity categories',\n",
       " 'computed race groups used for internet prevalence tables',\n",
       " 'calculated sex variable',\n",
       " 'reported age in two age groups calculated variable',\n",
       " 'computed height in meters',\n",
       " 'computed body mass index',\n",
       " 'overweight or obese calculated variable',\n",
       " 'computed number of children in household',\n",
       " 'computed level of education completed categories',\n",
       " 'computed income categories',\n",
       " 'computed smoking status',\n",
       " 'current smoking calculated variable',\n",
       " 'current e-cigarette user calculated variable',\n",
       " 'computed drink-occasions-per-day',\n",
       " 'computed number of drinks of alcohol beverages per week',\n",
       " 'heavy alcohol consumption  calculated variable',\n",
       " 'ever been tested for hiv calculated variable',\n",
       " 'computed fruit juice intake in times per day',\n",
       " 'computed fruit intake in times per day',\n",
       " 'computed dark green vegetable intake in times per day',\n",
       " 'computed potato servings per day',\n",
       " 'computed other vegetable intake in times per day',\n",
       " 'the number of missing fruit responses',\n",
       " 'the number of missing vegetable response',\n",
       " 'missing any fruit responses',\n",
       " 'missing any vegetable responses']"
      ]
     },
     "execution_count": 5,
     "metadata": {},
     "output_type": "execute_result"
    }
   ],
   "source": [
    "# storing the calculated, computed, missing variables in an array\n",
    "calculated_cols = [i for i in df3.columns if 'calculated' in i.lower() or 'computed' in i.lower()\n",
    "                  or 'missing' in i.lower() or 'interview' in i.lower() ]\n",
    "print(len(calculated_cols))\n",
    "calculated_cols"
   ]
  },
  {
   "cell_type": "code",
   "execution_count": 6,
   "metadata": {},
   "outputs": [
    {
     "data": {
      "text/plain": [
       "(125118, 105)"
      ]
     },
     "execution_count": 6,
     "metadata": {},
     "output_type": "execute_result"
    }
   ],
   "source": [
    "# droppind the calculated variables\n",
    "df4 = df3.drop(calculated_cols, axis=1)\n",
    "df4.shape"
   ]
  },
  {
   "cell_type": "code",
   "execution_count": 7,
   "metadata": {},
   "outputs": [
    {
     "data": {
      "text/plain": [
       "(69172, 105)"
      ]
     },
     "execution_count": 7,
     "metadata": {},
     "output_type": "execute_result"
    }
   ],
   "source": [
    "# dropping all the missing data from the dataset\n",
    "df4.dropna(inplace=True)\n",
    "df4.shape"
   ]
  },
  {
   "cell_type": "code",
   "execution_count": 8,
   "metadata": {},
   "outputs": [
    {
     "data": {
      "text/plain": [
       "(69172, 105)"
      ]
     },
     "execution_count": 8,
     "metadata": {},
     "output_type": "execute_result"
    }
   ],
   "source": [
    "# reseting the index\n",
    "df5 = df4.reset_index(drop=True)\n",
    "df5.shape"
   ]
  },
  {
   "cell_type": "code",
   "execution_count": 9,
   "metadata": {},
   "outputs": [
    {
     "data": {
      "text/html": [
       "<div>\n",
       "<style scoped>\n",
       "    .dataframe tbody tr th:only-of-type {\n",
       "        vertical-align: middle;\n",
       "    }\n",
       "\n",
       "    .dataframe tbody tr th {\n",
       "        vertical-align: top;\n",
       "    }\n",
       "\n",
       "    .dataframe thead th {\n",
       "        text-align: right;\n",
       "    }\n",
       "</style>\n",
       "<table border=\"1\" class=\"dataframe\">\n",
       "  <thead>\n",
       "    <tr style=\"text-align: right;\">\n",
       "      <th></th>\n",
       "      <th>state fips code</th>\n",
       "      <th>file month</th>\n",
       "      <th>final disposition</th>\n",
       "      <th>annual sequence number</th>\n",
       "      <th>primary sampling unit</th>\n",
       "      <th>safe time to talk?</th>\n",
       "      <th>correct phone number?</th>\n",
       "      <th>is this a cell phone?</th>\n",
       "      <th>are you 18 years of age or older?.1</th>\n",
       "      <th>are you male or female?.2</th>\n",
       "      <th>...</th>\n",
       "      <th>french fry intake in times per day</th>\n",
       "      <th>total fruits consumed per day</th>\n",
       "      <th>total vegetables consumed per day</th>\n",
       "      <th>consume fruit 1 or more times per day</th>\n",
       "      <th>consume vegetables 1 or more times per day</th>\n",
       "      <th>reported consuming fruit &gt;16/day</th>\n",
       "      <th>reported consuming vegetables &gt;23/day</th>\n",
       "      <th>fruit exclusion from analyses</th>\n",
       "      <th>vegetable exclusion from analyses</th>\n",
       "      <th>Smoking</th>\n",
       "    </tr>\n",
       "  </thead>\n",
       "  <tbody>\n",
       "    <tr>\n",
       "      <th>0</th>\n",
       "      <td>Alabama</td>\n",
       "      <td>1</td>\n",
       "      <td>1100</td>\n",
       "      <td>2021001136</td>\n",
       "      <td>2021001136</td>\n",
       "      <td>1.0</td>\n",
       "      <td>1.0</td>\n",
       "      <td>1.0</td>\n",
       "      <td>1.0</td>\n",
       "      <td>2.0</td>\n",
       "      <td>...</td>\n",
       "      <td>10.0</td>\n",
       "      <td>43.0</td>\n",
       "      <td>162.0</td>\n",
       "      <td>2</td>\n",
       "      <td>1</td>\n",
       "      <td>1</td>\n",
       "      <td>1</td>\n",
       "      <td>0</td>\n",
       "      <td>0</td>\n",
       "      <td>no</td>\n",
       "    </tr>\n",
       "    <tr>\n",
       "      <th>1</th>\n",
       "      <td>Alabama</td>\n",
       "      <td>1</td>\n",
       "      <td>1100</td>\n",
       "      <td>2021001140</td>\n",
       "      <td>2021001140</td>\n",
       "      <td>1.0</td>\n",
       "      <td>1.0</td>\n",
       "      <td>1.0</td>\n",
       "      <td>1.0</td>\n",
       "      <td>2.0</td>\n",
       "      <td>...</td>\n",
       "      <td>0.0</td>\n",
       "      <td>313.0</td>\n",
       "      <td>228.0</td>\n",
       "      <td>1</td>\n",
       "      <td>1</td>\n",
       "      <td>1</td>\n",
       "      <td>1</td>\n",
       "      <td>0</td>\n",
       "      <td>0</td>\n",
       "      <td>no</td>\n",
       "    </tr>\n",
       "  </tbody>\n",
       "</table>\n",
       "<p>2 rows × 105 columns</p>\n",
       "</div>"
      ],
      "text/plain": [
       "  state fips code file month  final disposition  annual sequence number  \\\n",
       "0         Alabama          1               1100              2021001136   \n",
       "1         Alabama          1               1100              2021001140   \n",
       "\n",
       "   primary sampling unit  safe time to talk?  correct phone number?  \\\n",
       "0             2021001136                 1.0                    1.0   \n",
       "1             2021001140                 1.0                    1.0   \n",
       "\n",
       "   is this a cell phone?  are you 18 years of age or older?.1  \\\n",
       "0                    1.0                                  1.0   \n",
       "1                    1.0                                  1.0   \n",
       "\n",
       "   are you male or female?.2  ...  french fry intake in times per day  \\\n",
       "0                        2.0  ...                                10.0   \n",
       "1                        2.0  ...                                 0.0   \n",
       "\n",
       "   total fruits consumed per day  total vegetables consumed per day  \\\n",
       "0                           43.0                              162.0   \n",
       "1                          313.0                              228.0   \n",
       "\n",
       "   consume fruit 1 or more times per day  \\\n",
       "0                                      2   \n",
       "1                                      1   \n",
       "\n",
       "   consume vegetables 1 or more times per day  \\\n",
       "0                                           1   \n",
       "1                                           1   \n",
       "\n",
       "   reported consuming fruit >16/day  reported consuming vegetables >23/day  \\\n",
       "0                                 1                                      1   \n",
       "1                                 1                                      1   \n",
       "\n",
       "   fruit exclusion from analyses  vegetable exclusion from analyses  Smoking  \n",
       "0                              0                                  0       no  \n",
       "1                              0                                  0       no  \n",
       "\n",
       "[2 rows x 105 columns]"
      ]
     },
     "execution_count": 9,
     "metadata": {},
     "output_type": "execute_result"
    }
   ],
   "source": [
    "# mapping the state code with state names\n",
    "# reading the state names with the corresponding column names from the csv file\n",
    "df_state_mapping = pd.read_csv(\"state mapping.csv\")\n",
    "di_state = df_state_mapping.set_index(\"id\")[\"state\"].to_dict()\n",
    "\n",
    "# converting the month number to month name\n",
    "df5[\"file month\"] = df5[\"file month\"].apply(str)\n",
    "\n",
    "# mapping the state name with state number\n",
    "df5[\"state fips code\"] = df5[\"state fips code\"].map(di_state)\n",
    "df5.head(2)"
   ]
  },
  {
   "cell_type": "code",
   "execution_count": 10,
   "metadata": {},
   "outputs": [
    {
     "data": {
      "text/plain": [
       "(69172, 105)"
      ]
     },
     "execution_count": 10,
     "metadata": {},
     "output_type": "execute_result"
    }
   ],
   "source": [
    "df5.shape\n"
   ]
  },
  {
   "cell_type": "code",
   "execution_count": 11,
   "metadata": {},
   "outputs": [
    {
     "data": {
      "text/plain": [
       "(57999, 105)"
      ]
     },
     "execution_count": 11,
     "metadata": {},
     "output_type": "execute_result"
    }
   ],
   "source": [
    "# removing the data where the reported response is \"Dont know\" or \"refused\" for various columns\n",
    "df5 = df5[(df5['currently taking medicine for high cholesterol'] != 7) & (df5['currently taking medicine for high cholesterol'] != 9) &\n",
    "          (df5['ever diagnosed with heart attack'] != 7) & (df5['ever diagnosed with heart attack'] != 9) &\n",
    "          (df5['ever told had asthma'] != 7) & (df5['ever told had asthma'] != 9) &\n",
    "          (df5['ever told you had c.o.p.d. emphysema or chronic bronchitis?'] != 7) & (df5['ever told you had c.o.p.d. emphysema or chronic bronchitis?'] != 9) &\n",
    "          (df5['(ever told) you had skin cancer?'] != 7) & (df5['(ever told) you had skin cancer?'] != 9) &\n",
    "          (df5['(ever told) you had any other types of cancer'] != 7) & (df5['(ever told) you had any other types of cancer'] != 9) &\n",
    "          (df5['ever told you have kidney disease?'] != 7) & (df5['ever told you have kidney disease?'] != 9) &\n",
    "          (df5['(ever told) you had diabetes'] != 7) & (df5['(ever told) you had diabetes'] != 9) &\n",
    "          (df5['told have arthritis'] != 7) & (df5['told have arthritis'] != 9) & \n",
    "          (df5['marital status'] != 9) & \n",
    "          (df5['education level'] != 9) &\n",
    "          (df5['own or rent home'] != 7) & (df5['own or rent home'] != 9) & \n",
    "          (df5['what is primary source of health insurance'] != 77) & (df5['what is primary source of health insurance'] != 99) & \n",
    "          (df5[\"general health\"] != 7) & (df5[\"general health\"] != 9) &\n",
    "          (df5['have personal health care provider?'] != 7) & (df5['have personal health care provider?'] != 9) &\n",
    "          (df5['could not afford to see doctor'] != 7) & (df5['could not afford to see doctor'] != 9) & \n",
    "          (df5['length of time since last routine checkup '] != 7) & (df5['length of time since last routine checkup '] != 9) & \n",
    "          (df5['exercise in past 30 days'] != 7) & (df5['exercise in past 30 days'] != 9) &\n",
    "          (df5['are you a veteran'] != 7) & (df5['are you a veteran'] != 9) & (df5['employment status'] != 9) & (df5['number of children in household'] != 99) & \n",
    "          (df5['income level'] != 99) & (df5['income level'] != 99) &\n",
    "          (df5['difficulty walking or climbing stairs'] != 7) & (df5['difficulty walking or climbing stairs'] != 9) &\n",
    "          (df5['difficulty dressing or bathing'] != 7) & (df5['difficulty dressing or bathing'] != 9) &\n",
    "          (df5['difficulty doing errands alone'] != 7) & (df5['difficulty doing errands alone'] != 9) &\n",
    "          (df5['are you deaf or do you have serious difficulty hearing?'] != 7) & (df5['are you deaf or do you have serious difficulty hearing?'] != 9) &\n",
    "          (df5['blind or difficulty seeing'] != 7) & (df5['blind or difficulty seeing'] != 9) &\n",
    "          (df5['difficulty concentrating or remembering'] != 7) & (df5['difficulty concentrating or remembering'] != 9) &\n",
    "          (df5['adult flu shot/spray past 12 mos'] != 7) & (df5['adult flu shot/spray past 12 mos'] != 9) &\n",
    "          (df5['ever tested h.i.v.'] != 7) & (df5['ever tested h.i.v.'] != 9) &\n",
    "          (df5['how many times did you eat fruit?'] != 777) & (df5['how many times did you eat fruit?'] != 999) & \n",
    "          (df5['how many times did you eat dark green vegetables?'] != 777) & (df5['how many times did you eat dark green vegetables?'] != 999) &\n",
    "          (df5['how often do you eat french fries or fried potatoes'] != 777) & (df5['how often do you eat french fries or fried potatoes'] != 999) &\n",
    "          (df5['how many times did you eat other vegetables?'] != 777) & (df5['how many times did you eat other vegetables?'] != 999) &\n",
    "          (df5[\"number of days physical health not good\"] != 77) & (df5[\"number of days physical health not good\"] != 99)]\n",
    "\n",
    "\n",
    "df5.shape\n"
   ]
  },
  {
   "cell_type": "code",
   "execution_count": 12,
   "metadata": {},
   "outputs": [
    {
     "data": {
      "text/plain": [
       "(57999, 127)"
      ]
     },
     "execution_count": 12,
     "metadata": {},
     "output_type": "execute_result"
    }
   ],
   "source": [
    "# Feature Engineering\n",
    "\n",
    "df5[\"bad_physical_health_days\"] = np.where((df5[\"number of days physical health not good\"] == 88), 0, df5[\"number of days physical health not good\"])\n",
    "\n",
    "df5['sex of respondent'] = np.where(df5['sex of respondent'] == 1, 'male', 'female')\n",
    "\n",
    "df5['Health_Insurance'] = df5['what is primary source of health insurance'].isin([1, 2, 3, 4, 5, 6, 7, 8, 9, 10])\n",
    "df5['Health_Insurance'] = np.where(df5['Health_Insurance']== True, \"yes\", \"no\")\n",
    "\n",
    "df5['general_health'] = np.where((df5['general health'] == 1) | (df5['general health'] == 2) | (df5['general health'] == 3), 'good', \"poor\")\n",
    "\n",
    "df5['Personal_Health_Care_Provider'] = np.where((df5['have personal health care provider?'] == 1) | \n",
    "                                                (df5['have personal health care provider?'] == 2), 'Yes', \"No\")\n",
    "df5['Afford_to_see_doctor']= np.where((df5['could not afford to see doctor']==1),'No','Yes')\n",
    "\n",
    "df5['routine_checkup ']= np.where(df5['length of time since last routine checkup ']==1,'Within past year',\n",
    "                                                   np.where(df5['length of time since last routine checkup ']==2,'Within past 2 years',\n",
    "                                                   np.where(df5['length of time since last routine checkup ']==3,'Within past 5 years',\n",
    "                                                   np.where(df5['length of time since last routine checkup ']==4,'5 or more years ago','Never'))))\n",
    "\n",
    "df5['exercise in past 30 days']= np.where(df5['exercise in past 30 days']==1,'Yes','No')\n",
    "\n",
    "df5['currently taking medicine for high cholesterol']= np.where(df5['currently taking medicine for high cholesterol']==1,'Yes','No')\n",
    "\n",
    "df5['Heart_Diseases'] = np.where((df5['ever diagnosed with heart attack'] == 1) | (df5['ever diagnosed with angina or coronary heart disesase'] == 1) |\n",
    "                                (df5['ever diagnosed with a stroke'] == 1), 'Yes', 'No')\n",
    "\n",
    "df5['ever told had asthma'] = np.where((df5['ever told had asthma'] == 1),'Yes','No')\n",
    "\n",
    "df5['ever told you had c.o.p.d. emphysema or chronic bronchitis?'] = np.where((df5['ever told you had c.o.p.d. emphysema or chronic bronchitis?'] == 1),'Yes','No')\n",
    "\n",
    "df5['Cancer'] = np.where((df5['(ever told) you had skin cancer?'] == 1) | (df5['(ever told) you had any other types of cancer'] == 1),'Yes','No')\n",
    "\n",
    "df5['ever told you have kidney disease?'] = np.where((df5['ever told you have kidney disease?'] == 1),'Yes','No')\n",
    "\n",
    "df5['(ever told) you had diabetes'] = np.where((df5['(ever told) you had diabetes'] == 1)|(df5['(ever told) you had diabetes'] == 2),'Yes','No')\n",
    "\n",
    "df5['told have arthritis'] = np.where((df5['told have arthritis'] == 1),'Yes','No')\n",
    "\n",
    "df5['marital_status']= np.where(df5['marital status']==1,'Married',\n",
    "                       np.where((df5['marital status']==2)|(df5['marital status']==4),'Separated',\n",
    "                       np.where(df5['marital status']==3,'Widowed','Unmarried')))\n",
    "\n",
    "df5['education_level']= np.where(df5['education level']==1,'Kindergarten school',\n",
    "                        np.where(df5['education level']==2,'Elementary School',\n",
    "                        np.where((df5['education level']==3) |(df5['education level']==4) ,'High School','College')))\n",
    "\n",
    "df5['own or rent home'] = np.where(df5['own or rent home']==1,'Own',\n",
    "                        np.where(df5['own or rent home']==2,'Rent','Other'))\n",
    "\n",
    "df5['are you a veteran'] = np.where(df5['are you a veteran']==1,'yes', 'no')\n",
    "\n",
    "df5['employment_status']= np.where((df5['employment status']==1) | (df5['employment status']==2),'Employed',\n",
    "                                    np.where((df5['employment status']==3) | (df5['employment status']==4) | (df5['employment status']==8),'Unemployed',\n",
    "                                    np.where(df5['employment status']==5,'Homemaker',\n",
    "                                    np.where(df5['employment status']==6,'Student', \"Retired\"))))\n",
    "\n",
    "df5['number of children in household']= np.where((df5['number of children in household']==88) ,'None',\n",
    "                                            np.where((df5['number of children in household']==1) ,'1',\n",
    "                                            np.where(df5['number of children in household']==2,'2',\n",
    "                                            np.where(df5['number of children in household']==3,'3', \"More than 3\"))))     \n",
    "\n",
    "df5['Income_Level']= np.where((df5['income level'].isin([1,2,3,4])) ,'less than 25k',\n",
    "                                            np.where((df5['income level'].isin([5,6])) ,'25k-50k',\n",
    "                                            np.where(df5['income level'].isin([7,8]),'50k-100k',\n",
    "                                            np.where(df5['income level'].isin([9,10]),'100k-200k', \"More than 200k\"))))    \n",
    "\n",
    "df5['Difficulty_Doing_Errands']= np.where((df5['difficulty walking or climbing stairs']==1) | \n",
    "                                            (df5['difficulty dressing or bathing']==1)  | (df5['difficulty doing errands alone']==1),'Yes',\"No\")  \n",
    "\n",
    "df5['Difficulty_Hearing']= np.where((df5['are you deaf or do you have serious difficulty hearing?']==1) ,'Yes',\"No\")\n",
    "\n",
    "df5['Difficulty_Seeing']= np.where((df5['blind or difficulty seeing']==1) ,'Yes',\"No\")\n",
    "\n",
    "df5['Difficulty_Concentrating']= np.where((df5['difficulty concentrating or remembering']==1) ,'Yes',\"No\")   \n",
    "\n",
    "df5['Flushot']= np.where((df5['adult flu shot/spray past 12 mos']==1) ,'Yes', \"No\")\n",
    "\n",
    "df5['County_Type']= np.where((df5['urban/rural status']==1) ,'Urban', \"Rural\")\n",
    "\n",
    "df5[\"Race\"] = np.where(df5[\"imputed race/ethnicity value\"]== 1, \"White\",\n",
    "                np.where(df5[\"imputed race/ethnicity value\"]==2, \"Black\",\n",
    "                np.where(df5[\"imputed race/ethnicity value\"]==3, \"Asian\",\n",
    "                np.where(df5[\"imputed race/ethnicity value\"]==4, \"American Indian\",\n",
    "                np.where(df5[\"imputed race/ethnicity value\"]==5, \"Hispanic\", \"Other\")))))\n",
    "\n",
    "df5[\"Age\"] = np.where(df5[\"Age_in_Groups\"]== 1, \"18-24\",\n",
    "                        np.where(df5[\"Age_in_Groups\"]==2, \"25-34\",\n",
    "                        np.where(df5[\"Age_in_Groups\"]==3, \"35-44\",\n",
    "                        np.where(df5[\"Age_in_Groups\"]==4, \"45-54\",\n",
    "                        np.where(df5[\"Age_in_Groups\"]==5, \"55-64\", \"64+\")))))\n",
    "\n",
    "df5[\"Binge_Drinking\"] = np.where(df5[\"binge_drinking\"]==1, \"no\", \"yes\")\n",
    "\n",
    "df5['Diet']= np.where((df5['how many times did you eat fruit?']>100) & (df5['how many times did you eat fruit?']<300)&\n",
    "                      (df5['how many times did you eat dark green vegetables?']>100) & (df5['how many times did you eat dark green vegetables?']<300) &\n",
    "                      (df5['how many times did you eat other vegetables?']>100) & (df5['how many times did you eat other vegetables?']<300) &\n",
    "                      (df5['how often do you eat french fries or fried potatoes']==555), 'healthy diet','mixed diet')\n",
    "\n",
    "df5[\"BMI\"] = np.where(df5[\"BMI\"]== 1, \"Underweight\",\n",
    "                np.where(df5[\"BMI\"]==2, \"NormalWeight\",\n",
    "                np.where(df5[\"BMI\"]==3, \"OverWeight\",\"Obese\")))\n",
    "\n",
    "df5[\"Weight_kg\"] = df5[\"Weight_kg\"]/100\n",
    "\n",
    "df5.shape"
   ]
  },
  {
   "cell_type": "code",
   "execution_count": 13,
   "metadata": {},
   "outputs": [
    {
     "data": {
      "text/plain": [
       "(57999, 127)"
      ]
     },
     "execution_count": 13,
     "metadata": {},
     "output_type": "execute_result"
    }
   ],
   "source": [
    "# renaming the column names\n",
    "df5.rename({'currently taking medicine for high cholesterol': 'Cholesterol', 'ever told had asthma': 'Asthma', \n",
    "            'ever told you had c.o.p.d. emphysema or chronic bronchitis?': 'Chronic_Bronchitis',\n",
    "            'ever told you have kidney disease?': 'Kidney_Disease', '(ever told) you had diabetes': 'Diabetes', \n",
    "            'told have arthritis': 'Arthritis', 'own or rent home': 'House', 'sex of respondent': 'Sex', \n",
    "            'exercise in past 30 days': 'Exercise', 'are you a veteran': 'Veteran', \n",
    "            \"number of children in household\" :\"Children\", \"state fips code\" : \"State\", \"number of days mental health not good\" : \"bad_mental_health_days\"}, axis=1, inplace=True)\n",
    "\n",
    "df5.shape\n"
   ]
  },
  {
   "cell_type": "code",
   "execution_count": 14,
   "metadata": {},
   "outputs": [],
   "source": [
    "# dropping the columns\n",
    "manual_columns = [\t\"final disposition\",\t\"annual sequence number\",\t\"primary sampling unit\",\t\"safe time to talk?\",\t\"correct phone number?\",\t\n",
    "                    \"is this a cell phone?\", \"are you male or female?.2\",\t\"do you live in a private residence?\",\t\"do you currently live in  ____(state)___\",\n",
    "                    \"do you also have a landline telephone?\",\t\"number of adults in household.1\", \"poor physical or mental health\",  \n",
    "                    \"how long since cholesterol checked\", \"do you have a cell phone for personal us\", \"questionnaire version identifier\",\n",
    "                    \"language identifier\", \"sample design stratification variable\", \"stratum weight\", \"raw weighting factor used in raking\",\n",
    "                    \"design weight used in raking\", \"dual phone use categories\", \"truncated design weight used in adult combined land line and cell phone raking\",\n",
    "                    \"final weight: land-line and cell-phone data\",\"ever told blood pressure high\", \"(ever told) you had a depressive disorder\",\n",
    "                    \"(ever told) you had skin cancer?\",\"(ever told) you had any other types of cancer\",\n",
    "                    \"respondents that have ever reported having coronary heart disease (chd) or myocardial infarction (mi)\", \n",
    "                    \"respondents diagnosed with arthritis\", \"limited usual activities\", \"limited work activities\", \n",
    "                    \"reported age in five-year age categories\", \"ever told cholesterol is high\",\"imputed age value collapsed above 80\", \n",
    "                    \"drink any alcoholic beverages in past 30 days\", \"french fry intake in times per day\", \n",
    "                    \"total fruits consumed per day\", \"total vegetables consumed per day\", \"consume fruit 1 or more times per day\", \n",
    "                    \"consume vegetables 1 or more times per day\", \"reported consuming fruit >16/day\", \"reported consuming vegetables >23/day\", \n",
    "                    \"fruit exclusion from analyses\", \"vegetable exclusion from analyses\", 'have personal health care provider?', \n",
    "                    'what is primary source of health insurance', 'could not afford to see doctor', 'ever diagnosed with heart attack', \n",
    "                    'ever diagnosed with angina or coronary heart disesase', 'ever diagnosed with a stroke', 'difficulty walking or climbing stairs',\n",
    "                    'difficulty dressing or bathing', 'difficulty doing errands alone', 'are you deaf or do you have serious difficulty hearing?',\n",
    "                    'blind or difficulty seeing', 'difficulty concentrating or remembering', \"smoked at least 100 cigarettes\", \n",
    "                    \"do you now use e-cigarettes, every day,\", 'reported weight in pounds', 'reported height in feet and inches',\n",
    "                    'use of smokeless tobacco products', \"have any health insurance\", \"adults with good or better health\", \"pneumonia shot ever\",\n",
    "                    \"adult flu shot/spray past 12 mos\", \"urban/rural status\", \"respondents aged 18-64 with health insurance\", \"imputed race/ethnicity value\",\n",
    "                    \"ever tested h.i.v.\", \"days in past 30 had alcoholic beverage\", \"metropolitan status\",'how many times did you eat fruit?', \n",
    "                    'how many times did you drink 100 percent pure fruit juices?','how often do you eat potatoes', \n",
    "                    'how many times did you eat dark green vegetables?', 'how many times did you eat other vegetables?', \n",
    "                    'how often do you eat french fries or fried potatoes', 'file month', \"are you 18 years of age or older?.1\",\n",
    "                    \"binge_drinking\", \"number of days physical health not good\", \"income level\", \"Age_in_Groups\",\n",
    "                    \"length of time since last routine checkup \", \"marital status\", \"education level\", \"employment status\", \"general health\"]\n",
    "df5.drop(manual_columns, axis=1, inplace = True)"
   ]
  },
  {
   "cell_type": "code",
   "execution_count": 15,
   "metadata": {},
   "outputs": [
    {
     "data": {
      "text/plain": [
       "0        good\n",
       "1        good\n",
       "3        poor\n",
       "5        good\n",
       "7        poor\n",
       "         ... \n",
       "69166    good\n",
       "69167    good\n",
       "69168    good\n",
       "69169    good\n",
       "69171    good\n",
       "Name: general_health, Length: 57999, dtype: object"
      ]
     },
     "execution_count": 15,
     "metadata": {},
     "output_type": "execute_result"
    }
   ],
   "source": [
    "df5[\"general_health\"]"
   ]
  },
  {
   "cell_type": "code",
   "execution_count": 16,
   "metadata": {
    "scrolled": false
   },
   "outputs": [
    {
     "data": {
      "text/plain": [
       "Index(['State', 'Sex', 'bad_mental_health_days', 'Exercise', 'Cholesterol',\n",
       "       'Asthma', 'Chronic_Bronchitis', 'Kidney_Disease', 'Diabetes',\n",
       "       'Arthritis', 'House', 'Veteran', 'Children', 'Height_Inch', 'Weight_kg',\n",
       "       'BMI', 'Smoking', 'bad_physical_health_days', 'Health_Insurance',\n",
       "       'general_health', 'Personal_Health_Care_Provider',\n",
       "       'Afford_to_see_doctor', 'routine_checkup ', 'Heart_Diseases', 'Cancer',\n",
       "       'marital_status', 'education_level', 'employment_status',\n",
       "       'Income_Level', 'Difficulty_Doing_Errands', 'Difficulty_Hearing',\n",
       "       'Difficulty_Seeing', 'Difficulty_Concentrating', 'Flushot',\n",
       "       'County_Type', 'Race', 'Age', 'Binge_Drinking', 'Diet'],\n",
       "      dtype='object')"
      ]
     },
     "execution_count": 16,
     "metadata": {},
     "output_type": "execute_result"
    }
   ],
   "source": [
    "df5.columns"
   ]
  },
  {
   "cell_type": "code",
   "execution_count": 17,
   "metadata": {},
   "outputs": [
    {
     "data": {
      "text/plain": [
       "(57999, 39)"
      ]
     },
     "execution_count": 17,
     "metadata": {},
     "output_type": "execute_result"
    }
   ],
   "source": [
    "df5.shape"
   ]
  },
  {
   "cell_type": "code",
   "execution_count": 18,
   "metadata": {},
   "outputs": [],
   "source": [
    "# # merging unemployment rate and poverty rate in each state\n",
    "# df_unemp = pd.read_excel(\"unemploymentrate_2021.xlsx\")\n",
    "# df_poverty = pd.read_csv(\"poverty_rate_2021.csv\")\n",
    "# df_unemp.rename({'rate': 'unemployment_rate'}, axis=1, inplace=True)\n",
    "# df_health_emp = pd.merge(df5, df_unemp, on='State')\n",
    "# df_health_emp = pd.merge(df_health_emp, df_poverty, on='State')\n",
    "# df_health_emp.shape\n",
    "# df_health_emp.columns\n"
   ]
  },
  {
   "cell_type": "code",
   "execution_count": 19,
   "metadata": {},
   "outputs": [],
   "source": [
    "df_final = df5\n",
    "df_final.to_excel(\"df_final.xlsx\", sheet_name = 'Mental Health Predictors', index=False)"
   ]
  },
  {
   "cell_type": "code",
   "execution_count": 20,
   "metadata": {},
   "outputs": [],
   "source": [
    "# df5[df5[\"Race\"] == \"Other\"][\"bad_mental_health_days\"].mean()"
   ]
  },
  {
   "cell_type": "code",
   "execution_count": 21,
   "metadata": {},
   "outputs": [],
   "source": [
    "# states = df5[\"State\"].unique()\n",
    "\n",
    "# for i in states:\n",
    "#     print(f\"{i} =\" + str(df5[df5['State'] == i][\"bad_mental_health_days\"].mean()))"
   ]
  },
  {
   "cell_type": "markdown",
   "metadata": {},
   "source": []
  },
  {
   "cell_type": "markdown",
   "metadata": {},
   "source": []
  }
 ],
 "metadata": {
  "kernelspec": {
   "display_name": "Python 3.9.12 ('base')",
   "language": "python",
   "name": "python3"
  },
  "language_info": {
   "codemirror_mode": {
    "name": "ipython",
    "version": 3
   },
   "file_extension": ".py",
   "mimetype": "text/x-python",
   "name": "python",
   "nbconvert_exporter": "python",
   "pygments_lexer": "ipython3",
   "version": "3.9.12"
  },
  "vscode": {
   "interpreter": {
    "hash": "2faa9ffcda42e4b207ec62cf305bc395672fd330dde5826d578866179f4b563b"
   }
  }
 },
 "nbformat": 4,
 "nbformat_minor": 2
}
